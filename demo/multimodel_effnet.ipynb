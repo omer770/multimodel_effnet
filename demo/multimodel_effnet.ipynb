{
  "cells": [
    {
      "cell_type": "code",
      "execution_count": null,
      "metadata": {
        "colab": {
          "base_uri": "https://localhost:8080/"
        },
        "id": "oLHNnqHXA3Tm",
        "outputId": "11916e4b-73b1-4235-a4f9-ec7de2b12b4d"
      },
      "outputs": [
        {
          "output_type": "stream",
          "name": "stdout",
          "text": [
            "Mounted at /content/drive\n"
          ]
        }
      ],
      "source": [
        "from google.colab import drive\n",
        "drive.mount('/content/drive')"
      ]
    },
    {
      "cell_type": "code",
      "execution_count": null,
      "metadata": {
        "id": "qo6qHdNcA5Tj"
      },
      "outputs": [],
      "source": [
        "#Config:\n",
        "file_id =  None #'<add_you_coco_dataset_dive_link>'  #Eg. '1fdgdgssytsyusrtyshgg' ensure data to be zip\n",
        "file_id_weigths = None #'<trained_weights any>' #Eg. '1fdgdgsgsjusysetg' : format: model_weights_00_100.pth\n",
        "file_csv = None #<add csv drive id >\n",
        "file_train_csv = None\n",
        "file_test_csv = None"
      ]
    },
    {
      "cell_type": "code",
      "execution_count": null,
      "metadata": {
        "id": "l1QnkqSSA_F2"
      },
      "outputs": [],
      "source": [
        "import gdown\n",
        "import shutil\n",
        "from pathlib import Path\n",
        "from IPython.display import clear_output\n",
        "Gdrive = False # IF you want to save data of images keep true\n",
        "folder_path = '/content/drive/MyDrive/' if Gdrive else '/content/'\n",
        "weights_Dir = Path('/content/drive/MyDrive/Colab_zip/multimodel_effnet/weights')\n",
        "weights_Dir.mkdir(parents=True, exist_ok=True)"
      ]
    },
    {
      "cell_type": "code",
      "execution_count": null,
      "metadata": {
        "colab": {
          "base_uri": "https://localhost:8080/"
        },
        "id": "EMfPXvnHBKPx",
        "outputId": "02e89fab-cd70-48bf-e3ac-a278c0198ea2"
      },
      "outputs": [
        {
          "output_type": "stream",
          "name": "stderr",
          "text": [
            "Cloning into 'multimodel_effnet'...\n"
          ]
        }
      ],
      "source": [
        "%%bash\n",
        "cd /content\n",
        "cd \"$folder_path\"  #goto location\n",
        "git clone https://github.com/omer770/multimodel_effnet.git\n",
        "cd multimodel_effnet\n",
        "pip install -r requirements.txt -q\n",
        "cd weights\n",
        "wget -q https://download.pytorch.org/models/efficientnet_b0_rwightman-7f5810bc.pth #default weights\n",
        "cd /content/"
      ]
    },
    {
      "cell_type": "code",
      "execution_count": null,
      "metadata": {
        "id": "MyB42xjv__OG"
      },
      "outputs": [],
      "source": [
        "if file_id:\n",
        "  zip_path = gdown.download(id=file_id)\n",
        "  !unzip -q {zip_path} -d {folder_path+'multimodel_effnet/data'}\n",
        "  #!rm zip_path\n",
        "  file_id = None\n",
        "if file_csv:\n",
        "  csv_name = gdown.download(id=file_csv)\n",
        "  shutil.move(csv_name, folder_path+'multimodel_effnet/data')\n",
        "  file_csv = None\n",
        "if file_train_csv:\n",
        "  train_csv_name = gdown.download(id=file_train_csv)\n",
        "  shutil.move(train_csv_name, folder_path+'multimodel_effnet/data')\n",
        "  file_train_csv = None\n",
        "if file_test_csv:\n",
        "  test_csv_name = gdown.download(id=file_test_csv)\n",
        "  shutil.move(test_csv_name, folder_path+'multimodel_effnet/data')\n",
        "  file_test_csv = None\n",
        "if file_id_weigths:\n",
        "  weights_path = gdown.download(id=file_id_weigths)\n",
        "  try:shutil.move(weights_path, weights_Dir)\n",
        "  except:print(f\"{weights_path} path exits\")\n",
        "clear_output()"
      ]
    },
    {
      "cell_type": "code",
      "execution_count": null,
      "metadata": {
        "colab": {
          "base_uri": "https://localhost:8080/",
          "height": 35
        },
        "id": "f8N-stmgFlYg",
        "outputId": "1a7d19ce-ea3d-4432-9ae1-d8538b5b1043"
      },
      "outputs": [
        {
          "output_type": "execute_result",
          "data": {
            "text/plain": [
              "'/content'"
            ],
            "application/vnd.google.colaboratory.intrinsic+json": {
              "type": "string"
            }
          },
          "metadata": {},
          "execution_count": 5
        }
      ],
      "source": [
        "%pwd"
      ]
    },
    {
      "cell_type": "code",
      "execution_count": null,
      "metadata": {
        "colab": {
          "base_uri": "https://localhost:8080/"
        },
        "id": "xc2EI82BI5Nm",
        "outputId": "345f01a3-8319-4e74-b8a0-48795129ae48"
      },
      "outputs": [
        {
          "output_type": "stream",
          "name": "stdout",
          "text": [
            "/content/multimodel_effnet\n"
          ]
        }
      ],
      "source": [
        "%cd {folder_path+'multimodel_effnet'}"
      ]
    },
    {
      "cell_type": "code",
      "execution_count": null,
      "metadata": {
        "id": "Gee46XCRI91J"
      },
      "outputs": [],
      "source": [
        "import os\n",
        "import torch\n",
        "import torchvision\n",
        "import pandas as pd\n",
        "from tqdm.auto import tqdm\n",
        "from pathlib import Path\n",
        "import torch.optim as optim\n",
        "from torchinfo import summary\n",
        "import matplotlib.pyplot as plt\n",
        "from torchvision import transforms\n",
        "from torch.utils.data import DataLoader\n",
        "from torchvision.utils import save_image\n",
        "from torchvision.models import efficientnet_b0,EfficientNet_B0_Weights"
      ]
    },
    {
      "cell_type": "code",
      "execution_count": null,
      "metadata": {
        "id": "ucjAWHRIOrKA"
      },
      "outputs": [],
      "source": [
        "from test_runs import make_predictions,model_test\n",
        "from multimodel_effnet.Efficientnet.util.train_utils import train\n",
        "from multimodel_effnet.Efficientnet.model import multimodel_effnet_arc\n",
        "from multimodel_effnet.Efficientnet.util.dataset import CustomImageDataset,create_balanced_df,WeightedSampler\n",
        "from multimodel_effnet.Efficientnet.util.metrics_utils import cross_entropy_loss_embedded,accuracy_embedded\n",
        "from multimodel_effnet.Efficientnet.util.visualize import plot_loss_curves,plot_test_results\n",
        "from multimodel_effnet.Efficientnet.util.metrics_utils import calculate_ConfusionMatrices\n",
        "from multimodel_effnet.Efficientnet.util.visualize import plot_confusion_matrices,display_random_images"
      ]
    },
    {
      "cell_type": "code",
      "execution_count": null,
      "metadata": {
        "colab": {
          "base_uri": "https://localhost:8080/"
        },
        "id": "SMNsCPy7J4es",
        "outputId": "1f120141-9e23-42f7-e9f9-0e90ebc83710"
      },
      "outputs": [
        {
          "output_type": "stream",
          "name": "stdout",
          "text": [
            "device:  cuda\n"
          ]
        }
      ],
      "source": [
        "device = \"cuda\" if torch.cuda.is_available() else \"cpu\"\n",
        "#torch.set_default_device(device)\n",
        "print(\"device: \",device)\n",
        "base_path = Path(folder_path)\n",
        "csv_path = base_path/'multimodel_effnet'/'data'/ csv_name\n",
        "train_csv_path = base_path/'multimodel_effnet'/'data'/ train_csv_name\n",
        "test_csv_path = base_path/'multimodel_effnet'/'data'/ test_csv_name\n",
        "image_directory = '/content/multimodel_effnet/data/Datasets2'\n",
        "weights_Dir = Path('/content/drive/MyDrive/Colab_zip/multimodel_effnet/weights')\n",
        "weights_Dir.mkdir(parents=True, exist_ok=True)\n",
        "df = pd.read_csv(csv_path)\n",
        "attribs_m = ['Roof Condition', 'Roof Material','Roof Style','Solar Panel', 'Tree Overhang', 'Swimming Pool']\n",
        "item_2_label_lst = [\n",
        "    {'Fair':0, 'Good':1, 'Poor':2,'Damaged':3},\n",
        "    {'Metal':0, 'Poly':1, 'Shingle':2, 'Tile':3,'Ballasted':4,'Asphalt':5},\n",
        "    {'Flat':0, 'Gabled':1, 'Hip':2, 'Mixed':3},\n",
        "    {'No':0,'Yes':1},\n",
        "    {'Low':0, 'Medium':1,'High':2, 'No':3},\n",
        "    {'No':0, 'Yes':1,'Screened':2}]\n",
        "label_2_item_lst = [\n",
        "    {0: 'Fair', 1: 'Good', 2: 'Poor', 3:'Damaged'},\n",
        "    {0: 'Metal', 1: 'Poly', 2: 'Shingle', 3: 'Tile', 4: 'Ballasted', 5:'Asphalt'},\n",
        "    {0: 'Flat', 1: 'Gabled', 2: 'Hip', 3: 'Mixed'},\n",
        "    {0: 'No', 1:'Yes'},\n",
        "    {0: 'Low', 1: 'Medium', 2:'High', 3: 'No'},\n",
        "    {0: 'No', 1: 'Yes', 2:'Screened'}]\n",
        "#print(df.head())"
      ]
    },
    {
      "cell_type": "code",
      "execution_count": null,
      "metadata": {
        "id": "oxVBzhzlMa5C"
      },
      "outputs": [],
      "source": [
        "weights = EfficientNet_B0_Weights.DEFAULT # .DEFAULT = best available weights\n",
        "effnet = efficientnet_b0\n",
        "model = multimodel_effnet_arc.effnet_multimodel(model_name='b1',effnet=effnet, weights =weights)\n",
        "# Freeze all base layers in the \"features\" section of the model (the feature extractor) by setting requires_grad=False\n",
        "for param in model.effnet.parameters():\n",
        "    param.requires_grad = False"
      ]
    },
    {
      "cell_type": "code",
      "execution_count": null,
      "metadata": {
        "colab": {
          "base_uri": "https://localhost:8080/"
        },
        "id": "kmazo3s8d_Gg",
        "outputId": "bafcf9cd-e6ca-4b74-dba3-2ed8161b2db6"
      },
      "outputs": [
        {
          "output_type": "stream",
          "name": "stdout",
          "text": [
            "choosen weights:  None\n"
          ]
        }
      ],
      "source": [
        "filePaths = [file for file in weights_Dir.iterdir() if file.name.startswith('me_model_weights')]\n",
        "try:\n",
        "  latest_weigths = str(filePaths[-1])\n",
        "  model.load_state_dict(torch.load(latest_weigths,map_location= device))\n",
        "  print(\"choosen weights: \",latest_weigths)\n",
        "except:\n",
        "  latest_weigths= None\n",
        "  print(\"choosen weights: \",latest_weigths)"
      ]
    },
    {
      "cell_type": "code",
      "execution_count": null,
      "metadata": {
        "id": "mW0fY-5IQzrd"
      },
      "outputs": [],
      "source": [
        "# Augment train data\n",
        "train_transforms = transforms.Compose([\n",
        "    transforms.CenterCrop(768),\n",
        "    transforms.Resize((224, 224)),\n",
        "    transforms.RandomHorizontalFlip(p=0.5),\n",
        "    transforms.ToTensor(),\n",
        "    #transforms.Normalize(mean=[0.485, 0.456, 0.406],\n",
        "                         #std=[0.229, 0.224, 0.225])\n",
        "])\n",
        "\n",
        "# Don't augment test data, only reshape\n",
        "test_transforms = transforms.Compose([\n",
        "    transforms.CenterCrop(768),\n",
        "    transforms.Resize((224, 224)),\n",
        "    transforms.ToTensor(),\n",
        "    #transforms.Normalize(mean=[0.485, 0.456, 0.406],\n",
        "                         #std=[0.229, 0.224, 0.225]),\n",
        "])"
      ]
    },
    {
      "cell_type": "code",
      "execution_count": null,
      "metadata": {
        "id": "KZ0hqdB-ZTWz"
      },
      "outputs": [],
      "source": [
        "train_data_custom = CustomImageDataset(annotations_file=train_csv_path,\n",
        "                                      img_dir=image_directory,\n",
        "                                      attribs=attribs_m,\n",
        "                                      item_2_label_lst =item_2_label_lst,\n",
        "                                      label_2_item_lst=label_2_item_lst,\n",
        "                                      #device = device,\n",
        "                                      transform=train_transforms)\n",
        "sampler_train = WeightedSampler(train_data_custom, weights_strategy='image-level')\n",
        "test_data_custom = CustomImageDataset(annotations_file=test_csv_path,\n",
        "                                      img_dir=image_directory,\n",
        "                                      attribs=attribs_m,\n",
        "                                      item_2_label_lst =item_2_label_lst,\n",
        "                                      label_2_item_lst=label_2_item_lst,\n",
        "                                      #device=device,\n",
        "                                      transform=test_transforms)\n",
        "sampler_test = WeightedSampler(test_data_custom, weights_strategy='image-level')"
      ]
    },
    {
      "cell_type": "code",
      "execution_count": null,
      "metadata": {
        "id": "oYySmf5baXZ9"
      },
      "outputs": [],
      "source": [
        "display_random_images(train_data_custom,n=5,classes = True)"
      ]
    },
    {
      "cell_type": "code",
      "execution_count": null,
      "metadata": {
        "colab": {
          "base_uri": "https://localhost:8080/"
        },
        "id": "jqE6AZT5ad6f",
        "outputId": "01232493-4457-4bfa-fb46-1da1161c8b2e"
      },
      "outputs": [
        {
          "output_type": "stream",
          "name": "stdout",
          "text": [
            "Image shape: torch.Size([3, 224, 224]),cpu -> [batch_size, color_channels, height, width],device\n",
            "Label of ['Roof Condition', 'Roof Material', 'Roof Style', 'Solar Panel', 'Tree Overhang', 'Swimming Pool']: ['Fair', 'Metal', 'Gabled', 'No', 'Low', 'No'],[tensor([1., 0., 0., 0.]), tensor([1., 0., 0., 0., 0., 0.]), tensor([0., 1., 0., 0.]), tensor([1., 0.]), tensor([1., 0., 0., 0.]), tensor([1., 0., 0.])]\n"
          ]
        }
      ],
      "source": [
        "# Get image and label from custom DataLoader\n",
        "img_custom, label_custom = next(iter(train_data_custom))\n",
        "\n",
        "# Batch size will now be 1, try changing the batch_size parameter above and see what happens\n",
        "print(f\"Image shape: {img_custom.shape},{img_custom.device} -> [batch_size, color_channels, height, width],device\")\n",
        "print(f\"Label of {attribs_m}: {train_data_custom.decode_labels_onehot(label_custom)},{label_custom}\")"
      ]
    },
    {
      "cell_type": "code",
      "execution_count": null,
      "metadata": {
        "id": "qYVJeTBCaufL"
      },
      "outputs": [],
      "source": [
        "NUM_WORKERS = os.cpu_count()\n",
        "BATCH_SIZE = 32\n",
        "train_dataloader = DataLoader(\n",
        "      train_data_custom,\n",
        "      batch_size=BATCH_SIZE,\n",
        "      #shuffle=True,\n",
        "      num_workers=NUM_WORKERS,\n",
        "      pin_memory=True,\n",
        "      sampler=sampler_train,\n",
        "      generator=torch.Generator(device='cpu')\n",
        "  )\n",
        "test_dataloader = DataLoader(\n",
        "      test_data_custom,\n",
        "      batch_size=BATCH_SIZE,\n",
        "      #shuffle=False,\n",
        "      num_workers=NUM_WORKERS,\n",
        "      pin_memory=True,\n",
        "      sampler=sampler_test,\n",
        "      generator=torch.Generator(device='cpu')\n",
        "  )"
      ]
    },
    {
      "cell_type": "code",
      "execution_count": null,
      "metadata": {
        "colab": {
          "base_uri": "https://localhost:8080/"
        },
        "id": "TV8BLQ7YcKhT",
        "outputId": "f5732073-12f7-4e38-dcb9-92ebf71a26a4"
      },
      "outputs": [
        {
          "output_type": "execute_result",
          "data": {
            "text/plain": [
              "=================================================================================================================================================\n",
              "Layer (type (var_name))                                           Input Shape          Output Shape         Param #              Trainable\n",
              "=================================================================================================================================================\n",
              "effnet_multimodel (effnet_multimodel)                             [32, 3, 224, 224]    [32, 4]              --                   Partial\n",
              "├─EfficientNet (effnet)                                           [32, 3, 224, 224]    [32, 1280]           --                   False\n",
              "│    └─Sequential (features)                                      [32, 3, 224, 224]    [32, 1280, 7, 7]     --                   False\n",
              "│    │    └─Conv2dNormActivation (0)                              [32, 3, 224, 224]    [32, 32, 112, 112]   (928)                False\n",
              "│    │    └─Sequential (1)                                        [32, 32, 112, 112]   [32, 16, 112, 112]   (1,448)              False\n",
              "│    │    └─Sequential (2)                                        [32, 16, 112, 112]   [32, 24, 56, 56]     (16,714)             False\n",
              "│    │    └─Sequential (3)                                        [32, 24, 56, 56]     [32, 40, 28, 28]     (46,640)             False\n",
              "│    │    └─Sequential (4)                                        [32, 40, 28, 28]     [32, 80, 14, 14]     (242,930)            False\n",
              "│    │    └─Sequential (5)                                        [32, 80, 14, 14]     [32, 112, 14, 14]    (543,148)            False\n",
              "│    │    └─Sequential (6)                                        [32, 112, 14, 14]    [32, 192, 7, 7]      (2,026,348)          False\n",
              "│    │    └─Sequential (7)                                        [32, 192, 7, 7]      [32, 320, 7, 7]      (717,232)            False\n",
              "│    │    └─Conv2dNormActivation (8)                              [32, 320, 7, 7]      [32, 1280, 7, 7]     (412,160)            False\n",
              "│    └─AdaptiveAvgPool2d (avgpool)                                [32, 1280, 7, 7]     [32, 1280, 1, 1]     --                   --\n",
              "│    └─Identity (classifier)                                      [32, 1280]           [32, 1280]           --                   --\n",
              "├─Dropout (drp1)                                                  [32, 1280]           [32, 1280]           --                   --\n",
              "├─Flatten (f1)                                                    [32, 1280]           [32, 1280]           --                   --\n",
              "├─ReLU (dense3)                                                   [32, 1280]           [32, 1280]           8,320                True\n",
              "├─Dropout (drp3)                                                  [32, 1280]           [32, 1280]           --                   --\n",
              "├─ReLU (dense4)                                                   [32, 1280]           [32, 1280]           4,128                True\n",
              "├─Dropout (drp4)                                                  [32, 1280]           [32, 1280]           --                   --\n",
              "├─Linear (output_condition)                                       [32, 1280]           [32, 4]              5,124                True\n",
              "├─Linear (output_material)                                        [32, 1280]           [32, 6]              7,686                True\n",
              "├─Linear (output_solar)                                           [32, 1280]           [32, 2]              2,562                True\n",
              "├─Linear (output_type)                                            [32, 1280]           [32, 4]              5,124                True\n",
              "├─Linear (output_tree)                                            [32, 1280]           [32, 4]              5,124                True\n",
              "├─Linear (output_pool)                                            [32, 1280]           [32, 3]              3,843                True\n",
              "=================================================================================================================================================\n",
              "Total params: 4,049,459\n",
              "Trainable params: 41,911\n",
              "Non-trainable params: 4,007,548\n",
              "Total mult-adds (G): 12.31\n",
              "=================================================================================================================================================\n",
              "Input size (MB): 19.27\n",
              "Forward/backward pass size (MB): 3452.10\n",
              "Params size (MB): 16.15\n",
              "Estimated Total Size (MB): 3487.51\n",
              "================================================================================================================================================="
            ]
          },
          "metadata": {},
          "execution_count": 23
        }
      ],
      "source": [
        "optimizer = torch.optim.Adam(model.parameters(), lr=0.001)\n",
        "summary(model=model,\n",
        "        input_size=(32, 3, 224, 224), # make sure this is \"input_size\", not \"input_shape\"\n",
        "        # col_names=[\"input_size\"], # uncomment for smaller output\n",
        "        col_names=[\"input_size\", \"output_size\", \"num_params\", \"trainable\"],\n",
        "        col_width=20,\n",
        "        row_settings=[\"var_names\"]\n",
        ")"
      ]
    },
    {
      "cell_type": "code",
      "source": [
        "from multimodel_effnet.Efficientnet.util.train_utils import train"
      ],
      "metadata": {
        "id": "bg_xAB7plkzz"
      },
      "execution_count": null,
      "outputs": []
    },
    {
      "cell_type": "code",
      "execution_count": null,
      "metadata": {
        "colab": {
          "base_uri": "https://localhost:8080/"
        },
        "id": "Y97YvgtWDnvF",
        "outputId": "a8cc3fb5-78d0-4f69-e311-70def007f360"
      },
      "outputs": [
        {
          "output_type": "stream",
          "name": "stdout",
          "text": [
            "choosen weights:  /content/drive/MyDrive/Colab_zip/multimodel_effnet/weights/me_model_weights_00_015.pth\n"
          ]
        }
      ],
      "source": [
        "filePaths = [file for file in weights_Dir.iterdir() if file.name.startswith('me_model_weights')]\n",
        "try:\n",
        "  latest_weigths = str(filePaths[-1])\n",
        "  print(\"choosen weights: \",latest_weigths)\n",
        "except:\n",
        "  latest_weigths= None\n",
        "  print(\"choosen weights: \",latest_weigths)"
      ]
    },
    {
      "cell_type": "code",
      "execution_count": null,
      "metadata": {
        "colab": {
          "base_uri": "https://localhost:8080/"
        },
        "id": "OGzLNShAe0R9",
        "outputId": "6951c64a-2a4a-49b6-a35c-d81ce2caefd9"
      },
      "outputs": [
        {
          "output_type": "stream",
          "name": "stderr",
          "text": [
            "100%|██████████| 10/10 [13:23<00:00, 80.30s/it]"
          ]
        },
        {
          "output_type": "stream",
          "name": "stdout",
          "text": [
            "Epoch: 10 | train_loss: 0.7715 | train_acc: 0.6908 | test_loss: 0.6198 | test_acc: 0.7563\n"
          ]
        },
        {
          "output_type": "stream",
          "name": "stderr",
          "text": [
            "\n"
          ]
        }
      ],
      "source": [
        "result = train(model=model,\n",
        "      train_dataloader=train_dataloader,\n",
        "      test_dataloader=test_dataloader,\n",
        "      optimizer=optimizer,\n",
        "      loss_fn=cross_entropy_loss_embedded,\n",
        "      acc_fn= accuracy_embedded,\n",
        "      epochs=20,\n",
        "      latest_weigths = latest_weigths,\n",
        "      save_path= weights_Dir,\n",
        "      save_epoch = 5,\n",
        "      device=device)"
      ]
    },
    {
      "cell_type": "code",
      "execution_count": null,
      "metadata": {
        "id": "OENJc_RomD_x",
        "colab": {
          "base_uri": "https://localhost:8080/",
          "height": 625
        },
        "outputId": "67155f05-91d8-453f-81fe-bfee725e2294"
      },
      "outputs": [
        {
          "output_type": "display_data",
          "data": {
            "text/plain": [
              "<Figure size 1500x700 with 2 Axes>"
            ],
            "image/png": "[encoded data removed]"
          },
          "metadata": {}
        }
      ],
      "source": [
        "plot_loss_curves(result)"
      ]
    },
    {
      "cell_type": "code",
      "source": [
        "#Make Predictions"
      ],
      "metadata": {
        "id": "2PNt-6Mgtaw_"
      },
      "execution_count": null,
      "outputs": []
    },
    {
      "cell_type": "code",
      "source": [
        "import random\n",
        "import pandas as pd\n",
        "df_test = pd.read_csv(test_csv_path)\n",
        "ids = random.sample(range(len(df_test)), k=9)\n",
        "df_sample = df_test.iloc[ids,:]"
      ],
      "metadata": {
        "id": "GgS03jV_taWe"
      },
      "execution_count": null,
      "outputs": []
    },
    {
      "cell_type": "code",
      "source": [
        "test_sample_custom = CustomImageDataset(annotations_df=df_sample,\n",
        "                                      img_dir=image_directory,\n",
        "                                      attribs=attribs_m,\n",
        "                                      item_2_label_lst =item_2_label_lst,\n",
        "                                      label_2_item_lst=label_2_item_lst,\n",
        "                                      #device = device,\n",
        "                                      transform=test_transforms)"
      ],
      "metadata": {
        "id": "6QAcXAU-t_RJ"
      },
      "execution_count": null,
      "outputs": []
    },
    {
      "cell_type": "code",
      "source": [
        "test_samples = []\n",
        "test_labels = []\n",
        "for idx in ids:\n",
        "  sample, label = test_sample_custom[idx]\n",
        "  test_samples.append(sample)\n",
        "  test_labels.append(label)\n",
        "\n",
        "# View the first test sample shape and label\n",
        "print(f\"Test sample image shape: {test_samples[0].shape}\\nTest sample label:{test_data_custom.decode_labels_onehot(test_labels[0])}:{test_labels[0]}\")"
      ],
      "metadata": {
        "colab": {
          "base_uri": "https://localhost:8080/"
        },
        "id": "B0r1gI0nuCAA",
        "outputId": "03978c97-c4f1-4cc9-f205-99e69140d91f"
      },
      "execution_count": null,
      "outputs": [
        {
          "output_type": "stream",
          "name": "stdout",
          "text": [
            "Test sample image shape: torch.Size([3, 224, 224])\n",
            "Test sample label:['Fair', 'Poly', 'Mixed', 'No', 'Low', 'Yes']:[tensor([1., 0., 0., 0.]), tensor([0., 1., 0., 0., 0., 0.]), tensor([0., 0., 0., 1.]), tensor([1., 0.]), tensor([1., 0., 0., 0.]), tensor([0., 1., 0.])]\n"
          ]
        }
      ]
    },
    {
      "cell_type": "code",
      "source": [
        "pred_classes = make_predictions(model=model,data=test_samples)"
      ],
      "metadata": {
        "id": "riD19LpPuKdD"
      },
      "execution_count": null,
      "outputs": []
    },
    {
      "cell_type": "code",
      "source": [
        "plot_test_results(\n",
        "    test_labels=test_labels,pred_classes=pred_classes,\n",
        "    test_samples= test_samples,test_data_custom = test_sample_custom\n",
        "    )"
      ],
      "metadata": {
        "id": "OgaB5vQyucHT"
      },
      "execution_count": null,
      "outputs": []
    },
    {
      "cell_type": "code",
      "execution_count": null,
      "metadata": {
        "id": "pgzMHFRIH8z_"
      },
      "outputs": [],
      "source": [
        "#Test model:"
      ]
    },
    {
      "cell_type": "code",
      "execution_count": null,
      "metadata": {
        "colab": {
          "base_uri": "https://localhost:8080/"
        },
        "id": "yW4dWJiUIBs7",
        "outputId": "7dfa8eb1-9456-465c-c4ba-6d9d244b6035"
      },
      "outputs": [
        {
          "output_type": "stream",
          "name": "stdout",
          "text": [
            "choosen weights:  /content/drive/MyDrive/Colab_zip/multimodel_effnet/weights/me_model_weights_01_005.pth\n"
          ]
        }
      ],
      "source": [
        "filePaths = [file for file in weights_Dir.iterdir() if file.name.startswith('me_model_weights')]\n",
        "try:\n",
        "  latest_weigths = str(filePaths[-1])\n",
        "  #model.load_state_dict(torch.load(latest_weigths,map_location= device))\n",
        "  print(\"choosen weights: \",latest_weigths)\n",
        "except:\n",
        "  latest_weigths= None\n",
        "  print(\"choosen weights: \",latest_weigths)"
      ]
    },
    {
      "cell_type": "code",
      "source": [
        "targets_tensors,y_pred_tensors = model_test(test_dataloader, model, device = device)"
      ],
      "metadata": {
        "colab": {
          "base_uri": "https://localhost:8080/",
          "height": 121,
          "referenced_widgets": [
            "6f81ce9dd8d149e0ac7ad8293a33ca24",
            "e29af0fe9ad04bc592cfb570f1ff0f5c",
            "81a1004955af44d5ab165ed5bab4f6ab",
            "2922b73501024fe585cc899418451a78",
            "8773ce77299f43929f864b79a5f8945b",
            "911f9d43192e45688b745c8f361af374",
            "61a1606100d44e0192fe7cc5d32beca2",
            "b178d8e9b5ec4f609e00bcf6fb258d5d",
            "829a565ab74d4d4b9ce4f2c32a05022b",
            "7e075dffe59145ea8b36e3abb94ab6f3",
            "abc2bf1ed0944f418aa6748bc20c821f"
          ]
        },
        "id": "VTndA2TJbSIm",
        "outputId": "67f7f947-7a8a-4272-9aea-7825d2b3c5a3"
      },
      "execution_count": null,
      "outputs": [
        {
          "output_type": "stream",
          "name": "stdout",
          "text": [
            "choosen weights:  None\n"
          ]
        },
        {
          "output_type": "stream",
          "name": "stderr",
          "text": [
            "/usr/lib/python3.10/multiprocessing/popen_fork.py:66: RuntimeWarning: os.fork() was called. os.fork() is incompatible with multithreaded code, and JAX is multithreaded, so this will likely lead to a deadlock.\n",
            "  self.pid = os.fork()\n"
          ]
        },
        {
          "output_type": "display_data",
          "data": {
            "text/plain": [
              "Making predictions:   0%|          | 0/32 [00:00<?, ?it/s]"
            ],
            "application/vnd.jupyter.widget-view+json": {
              "version_major": 2,
              "version_minor": 0,
              "model_id": "6f81ce9dd8d149e0ac7ad8293a33ca24"
            }
          },
          "metadata": {}
        }
      ]
    },
    {
      "cell_type": "code",
      "source": [
        "calculate_ConfusionMatrices(y_pred_tensors,targets_tensors)"
      ],
      "metadata": {
        "colab": {
          "base_uri": "https://localhost:8080/"
        },
        "id": "Tqd8I0bQnBcD",
        "outputId": "3b487f2e-6046-42ce-976e-5d4e7345a400"
      },
      "execution_count": null,
      "outputs": [
        {
          "output_type": "stream",
          "name": "stdout",
          "text": [
            "Attribute:  'Roof Condition'\n",
            "Classes:  ['Fair', 'Good', 'Poor', 'Damaged']\n",
            "Confusion Matrix: \n",
            "array([[330,   1,   9,  15],\n",
            "       [ 67,   0,   2,  10],\n",
            "       [ 97,   0,   2,   3],\n",
            "       [438,   9,  11,  12]])\n",
            "---------------------------------------------------------------------------\n",
            "Attribute:  'Roof Material'\n",
            "Classes:  ['Metal', 'Poly', 'Shingle', 'Tile', 'Ballasted', 'Asphalt']\n",
            "Confusion Matrix: \n",
            "array([[225,   0,  58,   8,   0,   1],\n",
            "       [ 18,  50,  23,   0,   1,   0],\n",
            "       [ 37,   3, 334,   2,   0,   3],\n",
            "       [ 20,   0,  20,  48,   0,   0],\n",
            "       [  2,   3,   0,   0,  64,   0],\n",
            "       [ 20,   0,  23,   4,   3,  36]])\n",
            "---------------------------------------------------------------------------\n",
            "Attribute:  'Roof Style'\n",
            "Classes:  ['Flat', 'Gabled', 'Hip', 'Mixed']\n",
            "Confusion Matrix: \n",
            "array([[159,  88,   0,   4],\n",
            "       [ 14, 327,   0,  29],\n",
            "       [  8,  36,  15,  47],\n",
            "       [ 24,  71,   0, 184]])\n",
            "---------------------------------------------------------------------------\n",
            "Attribute:  'Solar Panel'\n",
            "Classes:  ['No', 'Yes']\n",
            "Confusion Matrix: \n",
            "array([[896,   1],\n",
            "       [ 75,  34]])\n",
            "---------------------------------------------------------------------------\n",
            "Attribute:  'Tree Overhang'\n",
            "Classes:  ['Low', 'Medium', 'High', 'No']\n",
            "Confusion Matrix: \n",
            "array([[201,   7,   5, 142],\n",
            "       [ 39,  33,   7,   0],\n",
            "       [ 36,   2,  60,   4],\n",
            "       [ 43,   4,   0, 423]])\n",
            "---------------------------------------------------------------------------\n",
            "Attribute:  'Swimming Pool'\n",
            "Classes:  ['No', 'Yes', 'Screened']\n",
            "Confusion Matrix: \n",
            "array([[694,  17,   2],\n",
            "       [118,  60,   0],\n",
            "       [ 29,   0,  86]])\n",
            "---------------------------------------------------------------------------\n"
          ]
        }
      ]
    },
    {
      "cell_type": "code",
      "source": [
        "plot_confusion_matrices(y_pred_tensors,targets_tensors)"
      ],
      "metadata": {
        "id": "AvNYLgcZlJgP",
        "colab": {
          "base_uri": "https://localhost:8080/",
          "height": 776
        },
        "outputId": "9ae9c375-1688-4948-ca46-1224738c6600"
      },
      "execution_count": null,
      "outputs": [
        {
          "output_type": "display_data",
          "data": {
            "text/plain": [
              "<Figure size 1500x900 with 6 Axes>"
            ],
            "image/png": "[encoded data removed]"
          },
          "metadata": {}
        },
        {
          "output_type": "display_data",
          "data": {
            "text/plain": [
              "<Figure size 640x480 with 0 Axes>"
            ]
          },
          "metadata": {}
        }
      ]
    },
    {
      "cell_type": "code",
      "source": [],
      "metadata": {
        "id": "KvgciFlZj_wP"
      },
      "execution_count": null,
      "outputs": []
    }
  ],
  "metadata": {
    "accelerator": "GPU",
    "colab": {
      "gpuType": "T4",
      "provenance": []
    },
    "kernelspec": {
      "display_name": "Python 3",
      "name": "python3"
    },
    "language_info": {
      "name": "python"
    },
    "widgets": {
      "application/vnd.jupyter.widget-state+json": {
        "6f81ce9dd8d149e0ac7ad8293a33ca24": {
          "model_module": "@jupyter-widgets/controls",
          "model_name": "HBoxModel",
          "model_module_version": "1.5.0",
          "state": {
            "_dom_classes": [],
            "_model_module": "@jupyter-widgets/controls",
            "_model_module_version": "1.5.0",
            "_model_name": "HBoxModel",
            "_view_count": null,
            "_view_module": "@jupyter-widgets/controls",
            "_view_module_version": "1.5.0",
            "_view_name": "HBoxView",
            "box_style": "",
            "children": [
              "IPY_MODEL_e29af0fe9ad04bc592cfb570f1ff0f5c",
              "IPY_MODEL_81a1004955af44d5ab165ed5bab4f6ab",
              "IPY_MODEL_2922b73501024fe585cc899418451a78"
            ],
            "layout": "IPY_MODEL_8773ce77299f43929f864b79a5f8945b"
          }
        },
        "e29af0fe9ad04bc592cfb570f1ff0f5c": {
          "model_module": "@jupyter-widgets/controls",
          "model_name": "HTMLModel",
          "model_module_version": "1.5.0",
          "state": {
            "_dom_classes": [],
            "_model_module": "@jupyter-widgets/controls",
            "_model_module_version": "1.5.0",
            "_model_name": "HTMLModel",
            "_view_count": null,
            "_view_module": "@jupyter-widgets/controls",
            "_view_module_version": "1.5.0",
            "_view_name": "HTMLView",
            "description": "",
            "description_tooltip": null,
            "layout": "IPY_MODEL_911f9d43192e45688b745c8f361af374",
            "placeholder": "​",
            "style": "IPY_MODEL_61a1606100d44e0192fe7cc5d32beca2",
            "value": "Making predictions: 100%"
          }
        },
        "81a1004955af44d5ab165ed5bab4f6ab": {
          "model_module": "@jupyter-widgets/controls",
          "model_name": "FloatProgressModel",
          "model_module_version": "1.5.0",
          "state": {
            "_dom_classes": [],
            "_model_module": "@jupyter-widgets/controls",
            "_model_module_version": "1.5.0",
            "_model_name": "FloatProgressModel",
            "_view_count": null,
            "_view_module": "@jupyter-widgets/controls",
            "_view_module_version": "1.5.0",
            "_view_name": "ProgressView",
            "bar_style": "success",
            "description": "",
            "description_tooltip": null,
            "layout": "IPY_MODEL_b178d8e9b5ec4f609e00bcf6fb258d5d",
            "max": 32,
            "min": 0,
            "orientation": "horizontal",
            "style": "IPY_MODEL_829a565ab74d4d4b9ce4f2c32a05022b",
            "value": 32
          }
        },
        "2922b73501024fe585cc899418451a78": {
          "model_module": "@jupyter-widgets/controls",
          "model_name": "HTMLModel",
          "model_module_version": "1.5.0",
          "state": {
            "_dom_classes": [],
            "_model_module": "@jupyter-widgets/controls",
            "_model_module_version": "1.5.0",
            "_model_name": "HTMLModel",
            "_view_count": null,
            "_view_module": "@jupyter-widgets/controls",
            "_view_module_version": "1.5.0",
            "_view_name": "HTMLView",
            "description": "",
            "description_tooltip": null,
            "layout": "IPY_MODEL_7e075dffe59145ea8b36e3abb94ab6f3",
            "placeholder": "​",
            "style": "IPY_MODEL_abc2bf1ed0944f418aa6748bc20c821f",
            "value": " 32/32 [00:17&lt;00:00,  2.64it/s]"
          }
        },
        "8773ce77299f43929f864b79a5f8945b": {
          "model_module": "@jupyter-widgets/base",
          "model_name": "LayoutModel",
          "model_module_version": "1.2.0",
          "state": {
            "_model_module": "@jupyter-widgets/base",
            "_model_module_version": "1.2.0",
            "_model_name": "LayoutModel",
            "_view_count": null,
            "_view_module": "@jupyter-widgets/base",
            "_view_module_version": "1.2.0",
            "_view_name": "LayoutView",
            "align_content": null,
            "align_items": null,
            "align_self": null,
            "border": null,
            "bottom": null,
            "display": null,
            "flex": null,
            "flex_flow": null,
            "grid_area": null,
            "grid_auto_columns": null,
            "grid_auto_flow": null,
            "grid_auto_rows": null,
            "grid_column": null,
            "grid_gap": null,
            "grid_row": null,
            "grid_template_areas": null,
            "grid_template_columns": null,
            "grid_template_rows": null,
            "height": null,
            "justify_content": null,
            "justify_items": null,
            "left": null,
            "margin": null,
            "max_height": null,
            "max_width": null,
            "min_height": null,
            "min_width": null,
            "object_fit": null,
            "object_position": null,
            "order": null,
            "overflow": null,
            "overflow_x": null,
            "overflow_y": null,
            "padding": null,
            "right": null,
            "top": null,
            "visibility": null,
            "width": null
          }
        },
        "911f9d43192e45688b745c8f361af374": {
          "model_module": "@jupyter-widgets/base",
          "model_name": "LayoutModel",
          "model_module_version": "1.2.0",
          "state": {
            "_model_module": "@jupyter-widgets/base",
            "_model_module_version": "1.2.0",
            "_model_name": "LayoutModel",
            "_view_count": null,
            "_view_module": "@jupyter-widgets/base",
            "_view_module_version": "1.2.0",
            "_view_name": "LayoutView",
            "align_content": null,
            "align_items": null,
            "align_self": null,
            "border": null,
            "bottom": null,
            "display": null,
            "flex": null,
            "flex_flow": null,
            "grid_area": null,
            "grid_auto_columns": null,
            "grid_auto_flow": null,
            "grid_auto_rows": null,
            "grid_column": null,
            "grid_gap": null,
            "grid_row": null,
            "grid_template_areas": null,
            "grid_template_columns": null,
            "grid_template_rows": null,
            "height": null,
            "justify_content": null,
            "justify_items": null,
            "left": null,
            "margin": null,
            "max_height": null,
            "max_width": null,
            "min_height": null,
            "min_width": null,
            "object_fit": null,
            "object_position": null,
            "order": null,
            "overflow": null,
            "overflow_x": null,
            "overflow_y": null,
            "padding": null,
            "right": null,
            "top": null,
            "visibility": null,
            "width": null
          }
        },
        "61a1606100d44e0192fe7cc5d32beca2": {
          "model_module": "@jupyter-widgets/controls",
          "model_name": "DescriptionStyleModel",
          "model_module_version": "1.5.0",
          "state": {
            "_model_module": "@jupyter-widgets/controls",
            "_model_module_version": "1.5.0",
            "_model_name": "DescriptionStyleModel",
            "_view_count": null,
            "_view_module": "@jupyter-widgets/base",
            "_view_module_version": "1.2.0",
            "_view_name": "StyleView",
            "description_width": ""
          }
        },
        "b178d8e9b5ec4f609e00bcf6fb258d5d": {
          "model_module": "@jupyter-widgets/base",
          "model_name": "LayoutModel",
          "model_module_version": "1.2.0",
          "state": {
            "_model_module": "@jupyter-widgets/base",
            "_model_module_version": "1.2.0",
            "_model_name": "LayoutModel",
            "_view_count": null,
            "_view_module": "@jupyter-widgets/base",
            "_view_module_version": "1.2.0",
            "_view_name": "LayoutView",
            "align_content": null,
            "align_items": null,
            "align_self": null,
            "border": null,
            "bottom": null,
            "display": null,
            "flex": null,
            "flex_flow": null,
            "grid_area": null,
            "grid_auto_columns": null,
            "grid_auto_flow": null,
            "grid_auto_rows": null,
            "grid_column": null,
            "grid_gap": null,
            "grid_row": null,
            "grid_template_areas": null,
            "grid_template_columns": null,
            "grid_template_rows": null,
            "height": null,
            "justify_content": null,
            "justify_items": null,
            "left": null,
            "margin": null,
            "max_height": null,
            "max_width": null,
            "min_height": null,
            "min_width": null,
            "object_fit": null,
            "object_position": null,
            "order": null,
            "overflow": null,
            "overflow_x": null,
            "overflow_y": null,
            "padding": null,
            "right": null,
            "top": null,
            "visibility": null,
            "width": null
          }
        },
        "829a565ab74d4d4b9ce4f2c32a05022b": {
          "model_module": "@jupyter-widgets/controls",
          "model_name": "ProgressStyleModel",
          "model_module_version": "1.5.0",
          "state": {
            "_model_module": "@jupyter-widgets/controls",
            "_model_module_version": "1.5.0",
            "_model_name": "ProgressStyleModel",
            "_view_count": null,
            "_view_module": "@jupyter-widgets/base",
            "_view_module_version": "1.2.0",
            "_view_name": "StyleView",
            "bar_color": null,
            "description_width": ""
          }
        },
        "7e075dffe59145ea8b36e3abb94ab6f3": {
          "model_module": "@jupyter-widgets/base",
          "model_name": "LayoutModel",
          "model_module_version": "1.2.0",
          "state": {
            "_model_module": "@jupyter-widgets/base",
            "_model_module_version": "1.2.0",
            "_model_name": "LayoutModel",
            "_view_count": null,
            "_view_module": "@jupyter-widgets/base",
            "_view_module_version": "1.2.0",
            "_view_name": "LayoutView",
            "align_content": null,
            "align_items": null,
            "align_self": null,
            "border": null,
            "bottom": null,
            "display": null,
            "flex": null,
            "flex_flow": null,
            "grid_area": null,
            "grid_auto_columns": null,
            "grid_auto_flow": null,
            "grid_auto_rows": null,
            "grid_column": null,
            "grid_gap": null,
            "grid_row": null,
            "grid_template_areas": null,
            "grid_template_columns": null,
            "grid_template_rows": null,
            "height": null,
            "justify_content": null,
            "justify_items": null,
            "left": null,
            "margin": null,
            "max_height": null,
            "max_width": null,
            "min_height": null,
            "min_width": null,
            "object_fit": null,
            "object_position": null,
            "order": null,
            "overflow": null,
            "overflow_x": null,
            "overflow_y": null,
            "padding": null,
            "right": null,
            "top": null,
            "visibility": null,
            "width": null
          }
        },
        "abc2bf1ed0944f418aa6748bc20c821f": {
          "model_module": "@jupyter-widgets/controls",
          "model_name": "DescriptionStyleModel",
          "model_module_version": "1.5.0",
          "state": {
            "_model_module": "@jupyter-widgets/controls",
            "_model_module_version": "1.5.0",
            "_model_name": "DescriptionStyleModel",
            "_view_count": null,
            "_view_module": "@jupyter-widgets/base",
            "_view_module_version": "1.2.0",
            "_view_name": "StyleView",
            "description_width": ""
          }
        }
      }
    }
  },
  "nbformat": 4,
  "nbformat_minor": 0
}