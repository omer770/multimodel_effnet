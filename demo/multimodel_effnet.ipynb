{
  "nbformat": 4,
  "nbformat_minor": 0,
  "metadata": {
    "colab": {
      "provenance": []
    },
    "kernelspec": {
      "name": "python3",
      "display_name": "Python 3"
    },
    "language_info": {
      "name": "python"
    }
  },
  "cells": [
    {
      "cell_type": "code",
      "source": [
        "from google.colab import drive\n",
        "drive.mount('/content/drive')"
      ],
      "metadata": {
        "colab": {
          "base_uri": "https://localhost:8080/"
        },
        "id": "oLHNnqHXA3Tm",
        "outputId": "c1e26503-87dc-4d1a-87a1-fd69570238af"
      },
      "execution_count": 1,
      "outputs": [
        {
          "output_type": "stream",
          "name": "stdout",
          "text": [
            "Mounted at /content/drive\n"
          ]
        }
      ]
    },
    {
      "cell_type": "code",
      "source": [
        "#Config:\n",
        "file_id =  None #'<add_you_coco_dataset_dive_link>'  #Eg. '1fdgdgssytsyusrtyshgg' ensure data to be zip\n",
        "file_id_weigths = None #'<trained_weights any>' #Eg. '1fdgdgsgsjusysetg' : format: model_weights_00_100.pth\n",
        "file_csv = None #<add csv drive id >\n",
        "file_train_csv = None\n",
        "file_test_csv = None"
      ],
      "metadata": {
        "id": "qo6qHdNcA5Tj"
      },
      "execution_count": 2,
      "outputs": []
    },
    {
      "cell_type": "code",
      "source": [
        "import gdown\n",
        "import shutil\n",
        "from pathlib import Path\n",
        "Gdrive = False # IF you want to save data of images keep true\n",
        "folder_path = '/content/drive/MyDrive/' if Gdrive else '/content/'"
      ],
      "metadata": {
        "id": "l1QnkqSSA_F2"
      },
      "execution_count": 3,
      "outputs": []
    },
    {
      "cell_type": "code",
      "source": [
        "%%bash\n",
        "cd /content\n",
        "cd \"$folder_path\"  #goto location\n",
        "git clone https://github.com/omer770/multimodel_effnet.git\n",
        "cd multimodel_effnet\n",
        "cd weights\n",
        "wget -q https://download.pytorch.org/models/efficientnet_b0_rwightman-7f5810bc.pth #default weights\n",
        "cd /content/"
      ],
      "metadata": {
        "colab": {
          "base_uri": "https://localhost:8080/"
        },
        "id": "EMfPXvnHBKPx",
        "outputId": "185fabd7-0db9-4500-ef7a-8b81150a17ce"
      },
      "execution_count": 4,
      "outputs": [
        {
          "output_type": "stream",
          "name": "stderr",
          "text": [
            "Cloning into 'multimodel_effnet'...\n"
          ]
        }
      ]
    },
    {
      "cell_type": "code",
      "source": [
        "if file_id:\n",
        "  zip_path = gdown.download(id=file_id)\n",
        "  !unzip -q {zip_path} -d {folder_path+'multimodel_effnet/data'}\n",
        "  file_id = None\n",
        "if file_csv:\n",
        "  csv_name = gdown.download(id=file_csv)\n",
        "  shutil.move(csv_name, folder_path+'multimodel_effnet/data')\n",
        "  file_train_csv = None\n",
        "if file_train_csv:\n",
        "  train_csv_name = gdown.download(id=file_train_csv)\n",
        "  shutil.move(train_csv_name, folder_path+'multimodel_effnet/data')\n",
        "  file_train_csv = None\n",
        "if file_test_csv:\n",
        "  test_csv_name = gdown.download(id=file_test_csv)\n",
        "  shutil.move(test_csv_name, folder_path+'multimodel_effnet/data')\n",
        "  file_test_csv = None\n",
        "if file_id_weigths:\n",
        "  weights_path = gdown.download(id=file_id_weigths)\n",
        "  weights_Dir = Path('/content/drive/MyDrive/Colab_zip/GroundingDINO/weights')\n",
        "  weights_Dir.mkdir(parents=True, exist_ok=True)\n",
        "  shutil.move(weights_path, weights_Dir)"
      ],
      "metadata": {
        "id": "MyB42xjv__OG"
      },
      "execution_count": null,
      "outputs": []
    },
    {
      "cell_type": "code",
      "source": [
        "%pwd"
      ],
      "metadata": {
        "colab": {
          "base_uri": "https://localhost:8080/",
          "height": 35
        },
        "id": "f8N-stmgFlYg",
        "outputId": "1458aa65-f5bd-46dc-e238-3190041b3c2b"
      },
      "execution_count": 12,
      "outputs": [
        {
          "output_type": "execute_result",
          "data": {
            "text/plain": [
              "'/content/multimodel_effnet'"
            ],
            "application/vnd.google.colaboratory.intrinsic+json": {
              "type": "string"
            }
          },
          "metadata": {},
          "execution_count": 12
        }
      ]
    },
    {
      "cell_type": "code",
      "source": [
        "%cd {folder_path+'multimodel_effnet'}"
      ],
      "metadata": {
        "colab": {
          "base_uri": "https://localhost:8080/"
        },
        "id": "xc2EI82BI5Nm",
        "outputId": "7d4d5e24-3e41-447a-fbd6-04ade92f4f2a"
      },
      "execution_count": 15,
      "outputs": [
        {
          "output_type": "stream",
          "name": "stdout",
          "text": [
            "/content/multimodel_effnet\n"
          ]
        }
      ]
    },
    {
      "cell_type": "code",
      "source": [
        "!pip install -r requirements.txt -q"
      ],
      "metadata": {
        "colab": {
          "base_uri": "https://localhost:8080/"
        },
        "id": "GBn5bATXJSWP",
        "outputId": "4e0887fe-fa94-4850-b4da-096804d17fe9"
      },
      "execution_count": 8,
      "outputs": [
        {
          "output_type": "stream",
          "name": "stdout",
          "text": [
            "\u001b[?25l     \u001b[90m━━━━━━━━━━━━━━━━━━━━━━━━━━━━━━━━━━━━━━━━\u001b[0m \u001b[32m0.0/179.2 kB\u001b[0m \u001b[31m?\u001b[0m eta \u001b[36m-:--:--\u001b[0m\r\u001b[2K     \u001b[91m━━━━━━━━━━━━━━━━━━━━━━━━━━━━━━━━━━━━━━\u001b[0m\u001b[91m╸\u001b[0m\u001b[90m━\u001b[0m \u001b[32m174.1/179.2 kB\u001b[0m \u001b[31m7.8 MB/s\u001b[0m eta \u001b[36m0:00:01\u001b[0m\r\u001b[2K     \u001b[90m━━━━━━━━━━━━━━━━━━━━━━━━━━━━━━━━━━━━━━━━\u001b[0m \u001b[32m179.2/179.2 kB\u001b[0m \u001b[31m4.6 MB/s\u001b[0m eta \u001b[36m0:00:00\u001b[0m\n",
            "\u001b[?25h"
          ]
        }
      ]
    },
    {
      "cell_type": "code",
      "source": [
        "import os\n",
        "import torch\n",
        "import torchvision\n",
        "import pandas as pd\n",
        "from tqdm import tqdm\n",
        "from pathlib import Path\n",
        "import torch.optim as optim\n",
        "from torchinfo import summary\n",
        "import matplotlib.pyplot as plt\n",
        "from torchvision import transforms\n",
        "from torch.utils.data import DataLoader\n",
        "from torchvision.models import efficientnet_b0,EfficientNet_B0_Weights"
      ],
      "metadata": {
        "id": "Gee46XCRI91J"
      },
      "execution_count": 53,
      "outputs": []
    },
    {
      "cell_type": "code",
      "source": [
        "from multimodel_effnet.Efficientnet.model import multimodel_effnet_arc\n",
        "from multimodel_effnet.Efficientnet.util.dataset import display_random_images,CustomImageDataset\n",
        "from multimodel_effnet.Efficientnet.util.metrics_utils import cross_entropy_loss_embedded,accuracy_embedded\n",
        "from multimodel_effnet.Efficientnet.util.train_utils import train\n",
        "from multimodel_effnet.Efficientnet.util.utils import save_model\n",
        "from multimodel_effnet.Efficientnet.util.visualize import plot_loss_curves"
      ],
      "metadata": {
        "id": "ucjAWHRIOrKA"
      },
      "execution_count": 43,
      "outputs": []
    },
    {
      "cell_type": "code",
      "source": [
        "device = \"cuda\" if torch.cuda.is_available() else \"cpu\"\n",
        "#torch.set_default_device(device)\n",
        "print(\"device: \",device)\n",
        "base_path = Path(folder_path)\n",
        "#csv_path = base_path/'multimodel_effnet'/'data'/ csv_name\n",
        "train_csv_path = base_path/'multimodel_effnet'/'data'/ test_csv_name\n",
        "test_csv_path = base_path/'multimodel_effnet'/'data'/ test_csv_name\n",
        "image_directory = '/content/multimodel_effnet/data/Datasets2'\n",
        "weights_Dir = Path('/content/drive/MyDrive/Colab_zip/multimodel_effnet/weights')\n",
        "weights_Dir.mkdir(parents=True, exist_ok=True)\n",
        "df = pd.read_csv(csv_path)\n",
        "attribs_m = ['Roof Condition', 'Roof Material','Roof Style','Solar Panel', 'Tree Overhang', 'Swimming Pool']\n",
        "item_2_label_lst = [\n",
        "    {'Fair':0, 'Good':1, 'Poor':2,'Damaged':3},\n",
        "    {'Metal':0, 'Poly':1, 'Shingle':2, 'Tile':3,'Ballasted':4,'Asphalt':5},\n",
        "    {'Flat':0, 'Gabled':1, 'Hip':2, 'Mixed':3},\n",
        "    {'No':0,'Yes':1},\n",
        "    {'Low':0, 'Medium':1,'High':2, 'No':3},\n",
        "    {'No':0, 'Yes':1,'Screened':2}]\n",
        "label_2_item_lst = [\n",
        "    {0: 'Fair', 1: 'Good', 2: 'Poor', 3:'Damaged'},\n",
        "    {0: 'Metal', 1: 'Poly', 2: 'Shingle', 3: 'Tile', 4: 'Ballasted', 5:'Asphalt'},\n",
        "    {0: 'Flat', 1: 'Gabled', 2: 'Hip', 3: 'Mixed'},\n",
        "    {0: 'No', 1:'Yes'},\n",
        "    {0: 'Low', 1: 'Medium', 2:'High', 3: 'No'},\n",
        "    {0: 'No', 1: 'Yes', 2:'Screened'}]\n",
        "#print(df.head())"
      ],
      "metadata": {
        "colab": {
          "base_uri": "https://localhost:8080/"
        },
        "id": "SMNsCPy7J4es",
        "outputId": "a7f6c97b-5215-4c06-e79c-4e5613f40e96"
      },
      "execution_count": 26,
      "outputs": [
        {
          "output_type": "stream",
          "name": "stdout",
          "text": [
            "device:  cpu\n"
          ]
        }
      ]
    },
    {
      "cell_type": "code",
      "source": [
        "weights = EfficientNet_B0_Weights.DEFAULT # .DEFAULT = best available weights\n",
        "effnet = efficientnet_b0\n",
        "model = multimodel_effnet_arc.effnet_multimodel(model_name='b1',effnet=effnet, weights =weights)\n",
        "# Freeze all base layers in the \"features\" section of the model (the feature extractor) by setting requires_grad=False\n",
        "for param in model.effnet.parameters():\n",
        "    param.requires_grad = False"
      ],
      "metadata": {
        "id": "oxVBzhzlMa5C"
      },
      "execution_count": 61,
      "outputs": []
    },
    {
      "cell_type": "code",
      "source": [
        "#model.compile()"
      ],
      "metadata": {
        "id": "kmazo3s8d_Gg"
      },
      "execution_count": 59,
      "outputs": []
    },
    {
      "cell_type": "code",
      "source": [
        "# Augment train data\n",
        "train_transforms = transforms.Compose([\n",
        "    transforms.CenterCrop(768),\n",
        "    transforms.Resize((224, 224)),\n",
        "    transforms.RandomHorizontalFlip(p=0.5),\n",
        "    transforms.ToTensor(),\n",
        "    transforms.Normalize(mean=[0.485, 0.456, 0.406],\n",
        "                         std=[0.229, 0.224, 0.225])\n",
        "])\n",
        "\n",
        "# Don't augment test data, only reshape\n",
        "test_transforms = transforms.Compose([\n",
        "    transforms.CenterCrop(768),\n",
        "    transforms.Resize((224, 224)),\n",
        "    transforms.ToTensor(),\n",
        "    transforms.Normalize(mean=[0.485, 0.456, 0.406],\n",
        "                         std=[0.229, 0.224, 0.225]),\n",
        "])"
      ],
      "metadata": {
        "id": "mW0fY-5IQzrd"
      },
      "execution_count": 46,
      "outputs": []
    },
    {
      "cell_type": "code",
      "source": [
        "train_data_custom = CustomImageDataset(annotations_file=train_csv_path,\n",
        "                                      img_dir=image_directory,\n",
        "                                      attribs=attribs_m,\n",
        "                                      item_2_label_lst =item_2_label_lst,\n",
        "                                      label_2_item_lst=label_2_item_lst,\n",
        "                                      transform=train_transforms)\n",
        "test_data_custom = CustomImageDataset(annotations_file=test_csv_path,\n",
        "                                      img_dir=image_directory,\n",
        "                                      attribs=attribs_m,\n",
        "                                      item_2_label_lst =item_2_label_lst,\n",
        "                                      label_2_item_lst=label_2_item_lst,\n",
        "                                      transform=test_transforms)"
      ],
      "metadata": {
        "id": "KZ0hqdB-ZTWz"
      },
      "execution_count": 49,
      "outputs": []
    },
    {
      "cell_type": "code",
      "source": [
        "display_random_images(train_data_custom,n=5,classes = True)"
      ],
      "metadata": {
        "id": "oYySmf5baXZ9"
      },
      "execution_count": null,
      "outputs": []
    },
    {
      "cell_type": "code",
      "source": [
        "# Get image and label from custom DataLoader\n",
        "img_custom, label_custom = next(iter(train_data_custom))\n",
        "\n",
        "# Batch size will now be 1, try changing the batch_size parameter above and see what happens\n",
        "print(f\"Image shape: {img_custom.shape},{img_custom.device} -> [batch_size, color_channels, height, width]\")\n",
        "print(f\"Label of {attribs_m}: {train_data_custom.decode_labels_onehot(label_custom)}\")"
      ],
      "metadata": {
        "colab": {
          "base_uri": "https://localhost:8080/"
        },
        "id": "jqE6AZT5ad6f",
        "outputId": "9f262126-de30-4f31-a62f-2180b0149c05"
      },
      "execution_count": 51,
      "outputs": [
        {
          "output_type": "stream",
          "name": "stdout",
          "text": [
            "Image shape: torch.Size([3, 224, 224]),cpu -> [batch_size, color_channels, height, width]\n",
            "Label of ['Roof Condition', 'Roof Material', 'Roof Style', 'Solar Panel', 'Tree Overhang', 'Swimming Pool']: ['Fair', 'Ballasted', 'Flat', 'No', 'Low', 'Yes']\n"
          ]
        }
      ]
    },
    {
      "cell_type": "code",
      "source": [
        "NUM_WORKERS = os.cpu_count()\n",
        "BATCH_SIZE = 32\n",
        "\n",
        "train_dataloader = DataLoader(\n",
        "      train_data_custom,\n",
        "      batch_size=BATCH_SIZE,\n",
        "      #shuffle=True,\n",
        "      #num_workers=NUM_WORKERS,\n",
        "      pin_memory=True,\n",
        "      generator=torch.Generator(device=device)\n",
        "  )\n",
        "test_dataloader = DataLoader(\n",
        "      test_data_custom,\n",
        "      batch_size=BATCH_SIZE,\n",
        "      #shuffle=False,\n",
        "      #num_workers=NUM_WORKERS,\n",
        "      pin_memory=True,\n",
        "      generator=torch.Generator(device=device)\n",
        "  )"
      ],
      "metadata": {
        "id": "qYVJeTBCaufL"
      },
      "execution_count": 54,
      "outputs": []
    },
    {
      "cell_type": "code",
      "source": [
        "optimizer = torch.optim.Adam(model.parameters(), lr=0.001)\n",
        "summary(model=model,\n",
        "        input_size=(32, 3, 224, 224), # make sure this is \"input_size\", not \"input_shape\"\n",
        "        # col_names=[\"input_size\"], # uncomment for smaller output\n",
        "        col_names=[\"input_size\", \"output_size\", \"num_params\", \"trainable\"],\n",
        "        col_width=20,\n",
        "        row_settings=[\"var_names\"]\n",
        ")"
      ],
      "metadata": {
        "colab": {
          "base_uri": "https://localhost:8080/"
        },
        "id": "TV8BLQ7YcKhT",
        "outputId": "e8852805-bff6-4b65-8ed8-419423929457"
      },
      "execution_count": 63,
      "outputs": [
        {
          "output_type": "execute_result",
          "data": {
            "text/plain": [
              "=================================================================================================================================================\n",
              "Layer (type (var_name))                                           Input Shape          Output Shape         Param #              Trainable\n",
              "=================================================================================================================================================\n",
              "effnet_multimodel (effnet_multimodel)                             [32, 3, 224, 224]    [32, 4]              --                   Partial\n",
              "├─EfficientNet (effnet)                                           [32, 3, 224, 224]    [32, 1280]           --                   False\n",
              "│    └─Sequential (features)                                      [32, 3, 224, 224]    [32, 1280, 7, 7]     --                   False\n",
              "│    │    └─Conv2dNormActivation (0)                              [32, 3, 224, 224]    [32, 32, 112, 112]   (928)                False\n",
              "│    │    └─Sequential (1)                                        [32, 32, 112, 112]   [32, 16, 112, 112]   (1,448)              False\n",
              "│    │    └─Sequential (2)                                        [32, 16, 112, 112]   [32, 24, 56, 56]     (16,714)             False\n",
              "│    │    └─Sequential (3)                                        [32, 24, 56, 56]     [32, 40, 28, 28]     (46,640)             False\n",
              "│    │    └─Sequential (4)                                        [32, 40, 28, 28]     [32, 80, 14, 14]     (242,930)            False\n",
              "│    │    └─Sequential (5)                                        [32, 80, 14, 14]     [32, 112, 14, 14]    (543,148)            False\n",
              "│    │    └─Sequential (6)                                        [32, 112, 14, 14]    [32, 192, 7, 7]      (2,026,348)          False\n",
              "│    │    └─Sequential (7)                                        [32, 192, 7, 7]      [32, 320, 7, 7]      (717,232)            False\n",
              "│    │    └─Conv2dNormActivation (8)                              [32, 320, 7, 7]      [32, 1280, 7, 7]     (412,160)            False\n",
              "│    └─AdaptiveAvgPool2d (avgpool)                                [32, 1280, 7, 7]     [32, 1280, 1, 1]     --                   --\n",
              "│    └─Identity (classifier)                                      [32, 1280]           [32, 1280]           --                   --\n",
              "├─Dropout (drp1)                                                  [32, 1280]           [32, 1280]           --                   --\n",
              "├─Flatten (f1)                                                    [32, 1280]           [32, 1280]           --                   --\n",
              "├─ReLU (dense3)                                                   [32, 1280]           [32, 1280]           8,320                True\n",
              "├─Dropout (drp3)                                                  [32, 1280]           [32, 1280]           --                   --\n",
              "├─ReLU (dense4)                                                   [32, 1280]           [32, 1280]           4,128                True\n",
              "├─Dropout (drp4)                                                  [32, 1280]           [32, 1280]           --                   --\n",
              "├─Linear (output_condition)                                       [32, 1280]           [32, 4]              5,124                True\n",
              "├─Linear (output_material)                                        [32, 1280]           [32, 6]              7,686                True\n",
              "├─Linear (output_solar)                                           [32, 1280]           [32, 2]              2,562                True\n",
              "├─Linear (output_type)                                            [32, 1280]           [32, 4]              5,124                True\n",
              "├─Linear (output_tree)                                            [32, 1280]           [32, 4]              5,124                True\n",
              "├─Linear (output_pool)                                            [32, 1280]           [32, 3]              3,843                True\n",
              "=================================================================================================================================================\n",
              "Total params: 4,049,459\n",
              "Trainable params: 41,911\n",
              "Non-trainable params: 4,007,548\n",
              "Total mult-adds (G): 12.31\n",
              "=================================================================================================================================================\n",
              "Input size (MB): 19.27\n",
              "Forward/backward pass size (MB): 3452.10\n",
              "Params size (MB): 16.15\n",
              "Estimated Total Size (MB): 3487.51\n",
              "================================================================================================================================================="
            ]
          },
          "metadata": {},
          "execution_count": 63
        }
      ]
    },
    {
      "cell_type": "code",
      "source": [
        "result = train(model=model,\n",
        "      train_dataloader=train_dataloader,\n",
        "      test_dataloader=test_dataloader,\n",
        "      optimizer=optimizer,\n",
        "      loss_fn=cross_entropy_loss_embedded,\n",
        "      acc_fn= accuracy_embedded,\n",
        "      epochs=5,\n",
        "      device=device)"
      ],
      "metadata": {
        "colab": {
          "base_uri": "https://localhost:8080/"
        },
        "id": "OGzLNShAe0R9",
        "outputId": "6a57bc41-971e-4280-881f-e674f06edcdb"
      },
      "execution_count": 64,
      "outputs": [
        {
          "output_type": "stream",
          "name": "stderr",
          "text": [
            "100%|██████████| 5/5 [27:09<00:00, 325.81s/it]"
          ]
        },
        {
          "output_type": "stream",
          "name": "stdout",
          "text": [
            "Epoch: 5 | train_loss: 0.9996 | train_acc: 0.6209 | test_loss: 0.8318 | test_acc: 0.6868\n"
          ]
        },
        {
          "output_type": "stream",
          "name": "stderr",
          "text": [
            "\n"
          ]
        }
      ]
    },
    {
      "cell_type": "code",
      "source": [
        "plot_loss_curves(result)"
      ],
      "metadata": {
        "colab": {
          "base_uri": "https://localhost:8080/",
          "height": 631
        },
        "id": "OENJc_RomD_x",
        "outputId": "f7664d41-d5dd-4a44-ceb8-bace9e8654cb"
      },
      "execution_count": 78,
      "outputs": [
        {
          "output_type": "display_data",
          "data": {
            "text/plain": [
              "<Figure size 1500x700 with 2 Axes>"
            ],
            "image/png": "[encoded data removed]"
          },
          "metadata": {}
        }
      ]
    },
    {
      "cell_type": "code",
      "source": [
        "# Save a model to file\n",
        "save_model(model= model,\n",
        "           target_dir= weights_Dir,\n",
        "           model_name= 'multimodel_effnet_temp.pth')"
      ],
      "metadata": {
        "colab": {
          "base_uri": "https://localhost:8080/"
        },
        "id": "3D-be0o6iUhy",
        "outputId": "8f8dea80-db54-40d0-a704-32ab90d46c7b"
      },
      "execution_count": 84,
      "outputs": [
        {
          "output_type": "stream",
          "name": "stdout",
          "text": [
            "[INFO] Saving model to: /content/drive/MyDrive/Colab_zip/multimodel_effnet/weights/multimodel_effnet_temp.pth\n"
          ]
        }
      ]
    }
  ]
}